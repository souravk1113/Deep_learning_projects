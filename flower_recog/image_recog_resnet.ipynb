{
  "nbformat": 4,
  "nbformat_minor": 0,
  "metadata": {
    "colab": {
      "name": "image_recog_resnet.ipynb",
      "provenance": [],
      "collapsed_sections": []
    },
    "kernelspec": {
      "name": "python3",
      "display_name": "Python 3"
    },
    "accelerator": "GPU"
  },
  "cells": [
    {
      "cell_type": "code",
      "metadata": {
        "id": "nTseqj0DQXfz",
        "colab_type": "code",
        "colab": {
          "base_uri": "https://localhost:8080/",
          "height": 50
        },
        "outputId": "50383f09-935a-4007-ea91-a9c4c64bd9bf"
      },
      "source": [
        "%tensorflow_version 1.x\n",
        "import numpy as np\n",
        "import tensorflow as tf\n",
        "import math\n",
        "import h5py\n",
        "import matplotlib.pyplot as plt\n",
        "from keras import layers\n",
        "from keras.layers import Input, Add, Dense, Activation, ZeroPadding2D, BatchNormalization, Flatten, Conv2D, AveragePooling2D, MaxPooling2D, GlobalMaxPooling2D\n",
        "from keras.models import Model, load_model\n",
        "from keras.preprocessing import image\n",
        "from keras.utils import layer_utils\n",
        "from keras.utils.data_utils import get_file\n",
        "from keras.applications.imagenet_utils import preprocess_input\n",
        "import pydot\n",
        "from IPython.display import SVG\n",
        "from keras.utils.vis_utils import model_to_dot\n",
        "from keras.utils import plot_model\n",
        "from keras.regularizers import l2\n",
        "from keras.initializers import glorot_uniform\n",
        "import scipy.misc\n",
        "from matplotlib.pyplot import imshow\n",
        "%matplotlib inline\n",
        "\n",
        "import keras.backend as K\n",
        "K.set_image_data_format('channels_last')\n",
        "K.set_learning_phase(1)"
      ],
      "execution_count": null,
      "outputs": [
        {
          "output_type": "stream",
          "text": [
            "TensorFlow 1.x selected.\n"
          ],
          "name": "stdout"
        },
        {
          "output_type": "stream",
          "text": [
            "Using TensorFlow backend.\n"
          ],
          "name": "stderr"
        }
      ]
    },
    {
      "cell_type": "code",
      "metadata": {
        "id": "oBCEcR-9xDhW",
        "colab_type": "code",
        "colab": {}
      },
      "source": [
        "def load_data():\n",
        "\n",
        "\t\n",
        "\ttrain_dataset = h5py.File(\"/content/drive/My Drive/Colab Notebooks/f.hdf5\", mode=\"r\")\n",
        "\ttrain_set_x_orig = np.array(train_dataset[\"train_img\"][:]) \n",
        "\ttrain_set_y_orig = np.array(train_dataset[\"train_labels\"][:]) # your train set labels\n",
        "\t\n",
        "\ttest_set_x_orig = np.array(train_dataset[\"test_img\"][:]) # your test set features\n",
        "\ttest_set_y_orig = np.array(train_dataset[\"test_labels\"][:]) # your test set labels\n",
        "   # classes = np.array(test_dataset[\"list_classes\"][:]) # the list of classes\n",
        "\ttrain_set_y_orig = train_set_y_orig.reshape((1, train_set_y_orig.shape[0]))\n",
        "\ttest_set_y_orig = test_set_y_orig.reshape((1, test_set_y_orig.shape[0]))\n",
        "\treturn train_set_x_orig, train_set_y_orig, test_set_x_orig, test_set_y_orig"
      ],
      "execution_count": null,
      "outputs": []
    },
    {
      "cell_type": "code",
      "metadata": {
        "id": "mp8FPVhP1TVR",
        "colab_type": "code",
        "colab": {}
      },
      "source": [
        "def convert_to_one_hot(labels,c):\n",
        "  c=tf.constant(c,name=\"c\")\n",
        "  one_hot_matrix=tf.one_hot(labels,c,axis=1)\n",
        "  sess=tf.Session()\n",
        "  one_hot=sess.run(one_hot_matrix)\n",
        "  sess.close()\n",
        "  return one_hot"
      ],
      "execution_count": null,
      "outputs": []
    },
    {
      "cell_type": "code",
      "metadata": {
        "id": "g6bCoi469qPD",
        "colab_type": "code",
        "colab": {
          "base_uri": "https://localhost:8080/",
          "height": 453
        },
        "outputId": "8947c33c-12c3-4e99-92ad-73d4acb3b78a"
      },
      "source": [
        "train_x_orig,train_y,test_x_orig,test_y=load_data()\n",
        "\n",
        "index=16\n",
        "plt.imshow(train_x_orig[index])\n",
        "plt.show()\n",
        "print (\"y = \" + str(train_y[0,index]) + \". It's a \" +  \" picture.\")\n",
        "train_y=train_y[0,:]\n",
        "test_y=test_y[0,:]\n",
        "print(train_y.shape)\n",
        "print(train_y)\n",
        "train_y=convert_to_one_hot(train_y.T,3)\n",
        "test_y=convert_to_one_hot(test_y.T,3)\n",
        "print(train_y)\n",
        "print(train_y.shape)"
      ],
      "execution_count": null,
      "outputs": [
        {
          "output_type": "display_data",
          "data": {
            "image/png": "[encoded data removed]",
            "text/plain": [
              "<Figure size 432x288 with 1 Axes>"
            ]
          },
          "metadata": {
            "tags": [],
            "needs_background": "light"
          }
        },
        {
          "output_type": "stream",
          "text": [
            "y = 2. It's a  picture.\n",
            "(2029,)\n",
            "[0 0 2 ... 2 1 2]\n",
            "[[1. 0. 0.]\n",
            " [1. 0. 0.]\n",
            " [0. 0. 1.]\n",
            " ...\n",
            " [0. 0. 1.]\n",
            " [0. 1. 0.]\n",
            " [0. 0. 1.]]\n",
            "(2029, 3)\n"
          ],
          "name": "stdout"
        }
      ]
    },
    {
      "cell_type": "code",
      "metadata": {
        "id": "oJUcTK1k0G6E",
        "colab_type": "code",
        "colab": {}
      },
      "source": [
        "def random_mini_batches(X,Y,mini_batch_size=64,seed=0):\n",
        "  m=X.shape[0]\n",
        "  mini_batches=[]\n",
        "  permutation=list(np.random.permutation(m))\n",
        "  shuffled_X = X[permutation,:,:,:]\n",
        "  shuffled_Y = Y[permutation,:]\n",
        "  num_complete_minibatches=math.floor(m/mini_batch_size)\n",
        "  for k in range(0,num_complete_minibatches):\n",
        "    minibatch_X=shuffled_X[k*mini_batch_size:(k+1)*mini_batch_size,:,:,:]\n",
        "    minibatch_Y=shuffled_Y[k*mini_batch_size:(k+1)*mini_batch_size,:]\n",
        "    minibatch=(minibatch_X,minibatch_Y)\n",
        "    mini_batches.append(minibatch)\n",
        "  if m % mini_batch_size != 0:\n",
        "        mini_batch_X = shuffled_X[num_complete_minibatches * mini_batch_size : m,:,:,:]\n",
        "        mini_batch_Y = shuffled_Y[num_complete_minibatches * mini_batch_size : m,:]\n",
        "        mini_batch = (mini_batch_X, mini_batch_Y)\n",
        "        mini_batches.append(mini_batch)\n",
        "\n",
        "  return mini_batches"
      ],
      "execution_count": null,
      "outputs": []
    },
    {
      "cell_type": "markdown",
      "metadata": {
        "id": "0Ehu4d2p_k22",
        "colab_type": "text"
      },
      "source": [
        "The following implemention uses res nets which  comprises of identity and convolutional block. \n",
        "The **identity block** is where the input layer dimension(a[l]) is same as output layer dimension(a[l+2]). There are 3 componenets in this block: 1st component contains conv layer-->batch normalisation(channel)-->relu activation. 2nd component contains conv-->batch_norm-->relu. 3rd layer contains conv-->batch_norm-->add input to 1st component--> relu\n",
        "\n",
        "The convolutional block contains 3 components: 1st component contains conv-->batch_norm-->relu .2nd component contains conv-->batchnorm-->relu. 3rd component contains conv-->batch_norm-->modify shape of input to first componet the add-->relu"
      ]
    },
    {
      "cell_type": "code",
      "metadata": {
        "id": "CaVHD2cW9h5p",
        "colab_type": "code",
        "colab": {}
      },
      "source": [
        "def identity_block(X,f,filters,stage,block):\n",
        "  conv_name_base=\"res\"+str(stage)+block+\"_branch\"\n",
        "  bn_name_base=\"bn\"+str(stage)+block+\"_branch\"\n",
        "  F1,F2,F3=filters\n",
        "  X_shortcut=X\n",
        "\n",
        "  ###component1##\n",
        "\n",
        "  X=Conv2D(F1,kernel_size=(1,1),strides=(1,1),padding=\"valid\",name=conv_name_base+\"2a\",kernel_initializer=glorot_uniform(seed=0),bias_regularizer=l2(0.001))(X)\n",
        "  X=BatchNormalization(axis=3,name=bn_name_base+\"2a\")(X)\n",
        "  X=Activation(\"relu\")(X)\n",
        "\n",
        "  ##component2\n",
        "  X=Conv2D(filters=F2,kernel_size=(f,f),strides=(1,1),padding=\"same\",name=conv_name_base+\"2b\",kernel_initializer=glorot_uniform(seed=0),bias_regularizer=l2(0.001))(X)\n",
        "  X=BatchNormalization(axis=3,name=bn_name_base+\"2b\")(X)\n",
        "  X=Activation(\"relu\")(X)\n",
        "\n",
        "  ##comp 3\n",
        "\n",
        "  X=Conv2D(filters=F3,kernel_size=(1,1),strides=(1,1),padding=\"valid\",name=conv_name_base+\"2c\",kernel_initializer=glorot_uniform(seed=0))(X)\n",
        "  X=BatchNormalization(axis=3,name=bn_name_base+\"2c\")(X)\n",
        "\n",
        "  X=Add()([X,X_shortcut])\n",
        "  X=Activation(\"relu\")(X)\n",
        "\n",
        "  return X\n"
      ],
      "execution_count": null,
      "outputs": []
    },
    {
      "cell_type": "code",
      "metadata": {
        "id": "NeIHvLyqOKnR",
        "colab_type": "code",
        "colab": {}
      },
      "source": [
        "def convolutional_block(X,f,filters,stage,block,s=2):\n",
        "  conv_name_base=\"res\"+str(stage)+block+\"_branch\"\n",
        "  bn_name_base=\"bn\"+str(stage)+block+\"_branch\"\n",
        "  F1, F2, F3 = filters\n",
        "  X_shortcut=X\n",
        "\n",
        "  ##1st component\n",
        "  X = Conv2D(F1, (1, 1), strides = (s,s),padding=\"valid\", name = conv_name_base + '2a', kernel_initializer = glorot_uniform(seed=0),bias_regularizer=l2(0.001))(X)\n",
        "  X = BatchNormalization(axis = 3, name = bn_name_base + '2a')(X)\n",
        "  X = Activation('relu')(X)\n",
        "\n",
        "  ##2nd component\n",
        "\n",
        "  X=Conv2D(F2,(f,f),strides=(1,1),padding=\"same\",name=conv_name_base+\"2b\",kernel_initializer=glorot_uniform(seed=0),bias_regularizer=l2(0.001))(X)\n",
        "  X=BatchNormalization(axis=3,name=bn_name_base+\"2b\")(X)\n",
        "  X=Activation(\"relu\")(X)\n",
        "\n",
        "  ##3rd component\n",
        "  X=Conv2D(F3,kernel_size=(1,1),strides=(1,1),padding=\"valid\",name=conv_name_base+\"2c\",kernel_initializer=glorot_uniform(seed=0))(X)\n",
        "  X = BatchNormalization(axis = 3, name = bn_name_base + '2c')(X)\n",
        "  \n",
        "  X_shortcut = Conv2D(F3, (1, 1), strides = (s,s),padding=\"valid\", name = conv_name_base + '1', kernel_initializer = glorot_uniform(seed=0))(X_shortcut)\n",
        "  X_shortcut = BatchNormalization(axis = 3, name = bn_name_base + '1')(X_shortcut)\n",
        "\n",
        "  X = Add()([X,X_shortcut])\n",
        "  X =  Activation('relu')(X)\n",
        "  return X\n"
      ],
      "execution_count": null,
      "outputs": []
    },
    {
      "cell_type": "code",
      "metadata": {
        "id": "69CxwD18QpqP",
        "colab_type": "code",
        "colab": {}
      },
      "source": [
        "\n",
        "def ResNet50(input_shape = (64, 64, 3), classes = 3):\n",
        "    \"\"\"\n",
        "    Implementation of the popular ResNet50 the following architecture:\n",
        "    CONV2D -> BATCHNORM -> RELU -> MAXPOOL -> CONVBLOCK -> IDBLOCK*2 -> CONVBLOCK -> IDBLOCK*3\n",
        "    -> CONVBLOCK -> IDBLOCK*5 -> CONVBLOCK -> IDBLOCK*2 -> AVGPOOL -> TOPLAYER\n",
        "\n",
        "    Arguments:\n",
        "    input_shape -- shape of the images of the dataset\n",
        "    classes -- integer, number of classes\n",
        "\n",
        "    Returns:\n",
        "    model -- a Model() instance in Keras\n",
        "    \"\"\"\n",
        "    \n",
        "    # Define the input as a tensor with shape input_shape\n",
        "    X_input = Input(input_shape)\n",
        "\n",
        "    \n",
        "    # Zero-Padding\n",
        "    X = ZeroPadding2D((3, 3))(X_input)\n",
        "    \n",
        "    # Stage 1\n",
        "    X = Conv2D(64, (7, 7), strides = (2, 2), name = 'conv1', kernel_initializer = glorot_uniform(seed=0))(X)\n",
        "    X = BatchNormalization(axis = 3, name = 'bn_conv1')(X)\n",
        "    X = Activation('relu')(X)\n",
        "    X = MaxPooling2D((3, 3), strides=(2, 2))(X)\n",
        "\n",
        "    # Stage 2\n",
        "    X = convolutional_block(X, f = 3, filters = [64, 64, 256], stage = 2, block='a', s = 1)\n",
        "    X = identity_block(X, 3, [64, 64, 256], stage=2, block='b')\n",
        "    X = identity_block(X, 3, [64, 64, 256], stage=2, block='c')\n",
        "\n",
        "\n",
        "    # Stage 3 \n",
        "    X = convolutional_block(X, f = 3, filters = [128, 128, 512], stage = 3, block='a', s = 2)\n",
        "    X =  identity_block(X, 3, [128, 128, 512], stage=3, block='b')\n",
        "    X = identity_block(X, 3, [128, 128, 512], stage=3, block='c')\n",
        "    X = identity_block(X, 3, [128, 128, 512], stage=3, block='d')\n",
        "\n",
        "    # Stage 4 \n",
        "    X = convolutional_block(X, f = 3, filters = [256, 256, 1024], stage = 4, block='a', s = 2)\n",
        "    X = identity_block(X, 3, [256, 256, 1024], stage=4, block='b')\n",
        "    X = identity_block(X, 3, [256, 256, 1024], stage=4, block='c')\n",
        "    X = identity_block(X, 3, [256, 256, 1024], stage=4, block='d')\n",
        "    X =identity_block(X, 3, [256, 256, 1024], stage=4, block='e')\n",
        "    X = identity_block(X, 3, [256, 256, 1024], stage=4, block='f')\n",
        "\n",
        "    # Stage 5 \n",
        "    X = convolutional_block(X, f = 3, filters = [512, 512, 2048], stage = 5, block='a', s = 2)\n",
        "    X = identity_block(X, 3, [512, 512, 2048], stage=5, block='b')\n",
        "    X = identity_block(X, 3, [512, 512, 2048], stage=5, block='c')\n",
        "\n",
        "    \n",
        "    X = AveragePooling2D((2,2),name=\"avg_pool\")(X)\n",
        "    \n",
        "    \n",
        "\n",
        "    # output layer\n",
        "    X = Flatten()(X)\n",
        "    X = Dense(classes, activation='softmax', name='fc' + str(classes), kernel_initializer = glorot_uniform(seed=0),bias_regularizer=l2(0.01))(X)\n",
        "    \n",
        "    \n",
        "    \n",
        "    model = Model(inputs = X_input, outputs = X, name='ResNet50')\n",
        "\n",
        "    return model"
      ],
      "execution_count": null,
      "outputs": []
    },
    {
      "cell_type": "code",
      "metadata": {
        "id": "9c8WIsohRdG_",
        "colab_type": "code",
        "colab": {
          "base_uri": "https://localhost:8080/",
          "height": 910
        },
        "outputId": "5ab2450a-b181-426b-d1d0-5fcf27bcc92b"
      },
      "source": [
        "model = ResNet50(input_shape = (64, 64, 3), classes = 3)\n",
        "model.compile(optimizer='adam', loss='categorical_crossentropy', metrics=['accuracy'])\n",
        "model.fit(train_x_orig, train_y, epochs = 21, batch_size = 64)"
      ],
      "execution_count": null,
      "outputs": [
        {
          "output_type": "stream",
          "text": [
            "WARNING:tensorflow:From /tensorflow-1.15.2/python3.6/tensorflow_core/python/ops/resource_variable_ops.py:1630: calling BaseResourceVariable.__init__ (from tensorflow.python.ops.resource_variable_ops) with constraint is deprecated and will be removed in a future version.\n",
            "Instructions for updating:\n",
            "If using Keras pass *_constraint arguments to layers.\n",
            "WARNING:tensorflow:From /usr/local/lib/python3.6/dist-packages/keras/backend/tensorflow_backend.py:4070: The name tf.nn.max_pool is deprecated. Please use tf.nn.max_pool2d instead.\n",
            "\n",
            "WARNING:tensorflow:From /usr/local/lib/python3.6/dist-packages/keras/backend/tensorflow_backend.py:4074: The name tf.nn.avg_pool is deprecated. Please use tf.nn.avg_pool2d instead.\n",
            "\n",
            "WARNING:tensorflow:From /usr/local/lib/python3.6/dist-packages/keras/backend/tensorflow_backend.py:422: The name tf.global_variables is deprecated. Please use tf.compat.v1.global_variables instead.\n",
            "\n",
            "Epoch 1/21\n",
            "2029/2029 [==============================] - 14s 7ms/step - loss: 2.0418 - accuracy: 0.4204\n",
            "Epoch 2/21\n",
            "2029/2029 [==============================] - 3s 1ms/step - loss: 0.9982 - accuracy: 0.5954\n",
            "Epoch 3/21\n",
            "2029/2029 [==============================] - 2s 1ms/step - loss: 0.9337 - accuracy: 0.6230\n",
            "Epoch 4/21\n",
            "2029/2029 [==============================] - 2s 1ms/step - loss: 0.8253 - accuracy: 0.6432\n",
            "Epoch 5/21\n",
            "2029/2029 [==============================] - 2s 1ms/step - loss: 0.6786 - accuracy: 0.7270\n",
            "Epoch 6/21\n",
            "2029/2029 [==============================] - 2s 1ms/step - loss: 0.5899 - accuracy: 0.7748\n",
            "Epoch 7/21\n",
            "2029/2029 [==============================] - 2s 1ms/step - loss: 0.5649 - accuracy: 0.7866\n",
            "Epoch 8/21\n",
            "2029/2029 [==============================] - 3s 1ms/step - loss: 0.4508 - accuracy: 0.8255\n",
            "Epoch 9/21\n",
            "2029/2029 [==============================] - 2s 1ms/step - loss: 0.3622 - accuracy: 0.8689\n",
            "Epoch 10/21\n",
            "2029/2029 [==============================] - 2s 1ms/step - loss: 0.2709 - accuracy: 0.9029\n",
            "Epoch 11/21\n",
            "2029/2029 [==============================] - 2s 1ms/step - loss: 0.4987 - accuracy: 0.8349\n",
            "Epoch 12/21\n",
            "2029/2029 [==============================] - 2s 1ms/step - loss: 0.4404 - accuracy: 0.8605\n",
            "Epoch 13/21\n",
            "2029/2029 [==============================] - 2s 1ms/step - loss: 0.5419 - accuracy: 0.8048\n",
            "Epoch 14/21\n",
            "2029/2029 [==============================] - 2s 1ms/step - loss: 0.3377 - accuracy: 0.8812\n",
            "Epoch 15/21\n",
            "2029/2029 [==============================] - 3s 1ms/step - loss: 0.3104 - accuracy: 0.8931\n",
            "Epoch 16/21\n",
            "2029/2029 [==============================] - 2s 1ms/step - loss: 0.2246 - accuracy: 0.9221\n",
            "Epoch 17/21\n",
            "2029/2029 [==============================] - 3s 1ms/step - loss: 0.1586 - accuracy: 0.9443\n",
            "Epoch 18/21\n",
            "2029/2029 [==============================] - 2s 1ms/step - loss: 0.5799 - accuracy: 0.8270\n",
            "Epoch 19/21\n",
            "2029/2029 [==============================] - 3s 1ms/step - loss: 0.4820 - accuracy: 0.8103\n",
            "Epoch 20/21\n",
            "2029/2029 [==============================] - 3s 1ms/step - loss: 0.3909 - accuracy: 0.8793\n",
            "Epoch 21/21\n",
            "2029/2029 [==============================] - 2s 1ms/step - loss: 0.4258 - accuracy: 0.8418\n"
          ],
          "name": "stdout"
        },
        {
          "output_type": "execute_result",
          "data": {
            "text/plain": [
              "<keras.callbacks.callbacks.History at 0x7fd44a97ff28>"
            ]
          },
          "metadata": {
            "tags": []
          },
          "execution_count": 9
        }
      ]
    },
    {
      "cell_type": "code",
      "metadata": {
        "id": "75-6ttAMXVoq",
        "colab_type": "code",
        "colab": {
          "base_uri": "https://localhost:8080/",
          "height": 67
        },
        "outputId": "30ecf583-3287-4f2c-80b3-264dbb22d022"
      },
      "source": [
        "preds = model.evaluate(test_x_orig, test_y)\n",
        "print (\"Loss = \" + str(preds[0]))\n",
        "print (\"Test Accuracy = \" + str(preds[1]))"
      ],
      "execution_count": null,
      "outputs": [
        {
          "output_type": "stream",
          "text": [
            "508/508 [==============================] - 1s 2ms/step\n",
            "Loss = 1.182169406432805\n",
            "Test Accuracy = 0.5905511975288391\n"
          ],
          "name": "stdout"
        }
      ]
    },
    {
      "cell_type": "code",
      "metadata": {
        "id": "qXCyDuFlSgIX",
        "colab_type": "code",
        "colab": {}
      },
      "source": [
        ""
      ],
      "execution_count": null,
      "outputs": []
    }
  ]
}