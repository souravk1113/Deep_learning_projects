{
  "nbformat": 4,
  "nbformat_minor": 0,
  "metadata": {
    "colab": {
      "name": "Untitled0.ipynb",
      "provenance": []
    },
    "kernelspec": {
      "name": "python3",
      "display_name": "Python 3"
    },
    "accelerator": "GPU"
  },
  "cells": [
    {
      "cell_type": "code",
      "metadata": {
        "id": "XMW5UWDTh39X",
        "colab_type": "code",
        "colab": {
          "base_uri": "https://localhost:8080/",
          "height": 34
        },
        "outputId": "f7ccba2b-2220-40a1-c3bc-7f280604b43a"
      },
      "source": [
        "from keras.layers import Bidirectional, Concatenate, Permute, Dot, Input, LSTM, Multiply\n",
        "from keras.layers import RepeatVector, Dense, Activation, Lambda\n",
        "from keras.optimizers import Adam\n",
        "\n",
        "from keras.models import load_model, Model\n",
        "import keras.backend as K\n",
        "import numpy as np\n",
        "import tensorflow as tf\n",
        "\n",
        "import matplotlib.pyplot as plt\n",
        "import matplotlib.ticker as ticker\n",
        "from sklearn.model_selection import train_test_split\n",
        "\n",
        "import unicodedata\n",
        "import re\n",
        "import numpy as np\n",
        "import os\n",
        "import io\n",
        "import time\n",
        "from keras.preprocessing.text import Tokenizer\n",
        "from keras.preprocessing.sequence import pad_sequences\n",
        "import string\n",
        "from keras.utils import to_categorical\n",
        "from keras.layers import Embedding,TimeDistributed"
      ],
      "execution_count": null,
      "outputs": [
        {
          "output_type": "stream",
          "text": [
            "Using TensorFlow backend.\n"
          ],
          "name": "stderr"
        }
      ]
    },
    {
      "cell_type": "code",
      "metadata": {
        "id": "gpKE7T69xjl1",
        "colab_type": "code",
        "colab": {}
      },
      "source": [
        "def unicode_to_ascii(s):\n",
        "  return ''.join(c for c in unicodedata.normalize('NFD', s)\n",
        "      if unicodedata.category(c) != 'Mn')\n",
        "    \n",
        "def preprocess_sentence(w):\n",
        "  w = unicode_to_ascii(w.lower().strip())\n",
        "\n",
        "  # creating a space between a word and the punctuation following it\n",
        "  # eg: \"he is a boy.\" => \"he is a boy .\"\n",
        "  # Reference:- https://stackoverflow.com/questions/3645931/python-padding-punctuation-with-white-spaces-keeping-punctuation\n",
        "  w = re.sub(r\"([?.!,¿])\", r\" \\1 \", w)\n",
        "  w = re.sub(r'[\" \"]+', \" \", w)\n",
        "\n",
        "  # replacing everything with space except (a-z, A-Z, \".\", \"?\", \"!\", \",\")\n",
        "  w = re.sub(r\"[^a-zA-Z?.!,¿]+\", \" \", w)\n",
        "\n",
        "  w = w.strip()\n",
        "\n",
        "  # adding a start and an end token to the sentence\n",
        "  # so that the model know when to start and stop predicting.\n",
        "  w = '<start> ' + w + ' <end>'\n",
        "  return w\n"
      ],
      "execution_count": null,
      "outputs": []
    },
    {
      "cell_type": "code",
      "metadata": {
        "id": "dy6lotjju6li",
        "colab_type": "code",
        "colab": {}
      },
      "source": [
        "\n",
        "file=open(\"/content/drive/My Drive/Colab Notebooks/fra.txt\")\n",
        "lines=file.read().lower().strip().split(\"\\n\")\n",
        "word_pairs = [[preprocess_sentence(w) for w in l.split('\\t')[0:2]]  for l in lines]\n",
        "data_set=zip(*word_pairs)\n",
        "\n"
      ],
      "execution_count": null,
      "outputs": []
    },
    {
      "cell_type": "code",
      "metadata": {
        "id": "mPGhgqhGx3AP",
        "colab_type": "code",
        "colab": {}
      },
      "source": [
        " en,fn=data_set\n",
        " def tokenize(lang):\n",
        "   lang_tokenizer=Tokenizer(filters='')\n",
        "   lang_tokenizer.fit_on_texts(lang)\n",
        "   tensor=lang_tokenizer.texts_to_sequences(lang)\n",
        "   tensor=pad_sequences(tensor,padding=\"post\")\n",
        "   return tensor,lang_tokenizer\n",
        "X,X_token=tokenize(en) #input_lang\n",
        "Y,Y_token=tokenize(fn) #target_lang\n",
        "Tx=X.shape[1]\n",
        "Ty=Y.shape[1]"
      ],
      "execution_count": null,
      "outputs": []
    },
    {
      "cell_type": "code",
      "metadata": {
        "id": "wyzy_0nfTT_Z",
        "colab_type": "code",
        "colab": {
          "base_uri": "https://localhost:8080/",
          "height": 34
        },
        "outputId": "2a230472-5706-4011-ed7a-50fc365468ac"
      },
      "source": [
        "print(X_token.word_index[\"<start>\"])"
      ],
      "execution_count": null,
      "outputs": [
        {
          "output_type": "stream",
          "text": [
            "1\n"
          ],
          "name": "stdout"
        }
      ]
    },
    {
      "cell_type": "code",
      "metadata": {
        "id": "47syDvKYMOW2",
        "colab_type": "code",
        "colab": {}
      },
      "source": [
        "BUFFER_SIZE = len(X)\n",
        "BATCH_SIZE = 64\n",
        "steps_per_epoch = len(X)//BATCH_SIZE\n",
        "embedding_dim = 256\n",
        "units = 1024\n",
        "inp_vocab = len(X_token.word_index)+1\n",
        "tar_vocab = len(Y_token.word_index)+1\n",
        "\n",
        "dataset = tf.data.Dataset.from_tensor_slices((X, Y)).shuffle(BUFFER_SIZE)\n",
        "dataset = dataset.batch(BATCH_SIZE, drop_remainder=True) "
      ],
      "execution_count": null,
      "outputs": []
    },
    {
      "cell_type": "code",
      "metadata": {
        "id": "EOSDPuiINMVg",
        "colab_type": "code",
        "colab": {}
      },
      "source": [
        "class Encoder(tf.keras.Model):\n",
        "  def __init__(self, vocab_size, embedding_dim, enc_units, batch_sz):\n",
        "    super(Encoder, self).__init__()\n",
        "    self.batch_sz = batch_sz\n",
        "    self.enc_units = enc_units\n",
        "    self.embedding = tf.keras.layers.Embedding(vocab_size, embedding_dim)\n",
        "    self.gru = tf.keras.layers.GRU(self.enc_units,\n",
        "                                   return_sequences=True,\n",
        "                                   return_state=True,\n",
        "                                   recurrent_initializer='glorot_uniform')\n",
        "\n",
        "  def call(self, x, hidden):\n",
        "    x = self.embedding(x)\n",
        "    output, state = self.gru(x, initial_state = hidden)\n",
        "    return output, state\n",
        "\n",
        "  def initialize_hidden_state(self):\n",
        "    return tf.zeros((self.batch_sz, self.enc_units))"
      ],
      "execution_count": null,
      "outputs": []
    },
    {
      "cell_type": "code",
      "metadata": {
        "id": "0iI6kROcNe_3",
        "colab_type": "code",
        "colab": {}
      },
      "source": [
        "encoder = Encoder(inp_vocab, embedding_dim, units, BATCH_SIZE)"
      ],
      "execution_count": null,
      "outputs": []
    },
    {
      "cell_type": "code",
      "metadata": {
        "id": "FVzojb2zNwXX",
        "colab_type": "code",
        "colab": {}
      },
      "source": [
        "class BahdanauAttention(tf.keras.layers.Layer):\n",
        "  def __init__(self, units):\n",
        "    super(BahdanauAttention, self).__init__()\n",
        "    self.W1 = tf.keras.layers.Dense(units)\n",
        "    self.W2 = tf.keras.layers.Dense(units)\n",
        "    self.V = tf.keras.layers.Dense(1)\n",
        "\n",
        "  def call(self, query, values):\n",
        "    # query hidden state shape == (batch_size, hidden size)\n",
        "    # query_with_time_axis shape == (batch_size, 1, hidden size)\n",
        "    # values shape == (batch_size, max_len, hidden size)\n",
        "    # we are doing this to broadcast addition along the time axis to calculate the score\n",
        "    query_with_time_axis = tf.expand_dims(query, 1)\n",
        "\n",
        "    # score shape == (batch_size, max_length, 1)\n",
        "    # we get 1 at the last axis because we are applying score to self.V\n",
        "    # the shape of the tensor before applying self.V is (batch_size, max_length, units)\n",
        "    score = self.V(tf.nn.tanh(\n",
        "        self.W1(query_with_time_axis) + self.W2(values)))\n",
        "\n",
        "    # attention_weights shape == (batch_size, max_length, 1)\n",
        "    attention_weights = tf.nn.softmax(score, axis=1)\n",
        "\n",
        "    # context_vector shape after sum == (batch_size, hidden_size)\n",
        "    context_vector = attention_weights * values\n",
        "    context_vector = tf.reduce_sum(context_vector, axis=1)\n",
        "\n",
        "    return context_vector, attention_weights"
      ],
      "execution_count": null,
      "outputs": []
    },
    {
      "cell_type": "code",
      "metadata": {
        "id": "w1-VgQlHN9Uj",
        "colab_type": "code",
        "colab": {}
      },
      "source": [
        "attention_layer = BahdanauAttention(10)"
      ],
      "execution_count": null,
      "outputs": []
    },
    {
      "cell_type": "code",
      "metadata": {
        "id": "bNzWqHS_OADi",
        "colab_type": "code",
        "colab": {}
      },
      "source": [
        "class Decoder(tf.keras.Model):\n",
        "  def __init__(self, vocab_size, embedding_dim, dec_units, batch_sz):\n",
        "    super(Decoder, self).__init__()\n",
        "    self.batch_sz = batch_sz\n",
        "    self.dec_units = dec_units\n",
        "    self.embedding = tf.keras.layers.Embedding(vocab_size, embedding_dim)\n",
        "    self.gru = tf.keras.layers.GRU(self.dec_units,\n",
        "                                   return_sequences=True,\n",
        "                                   return_state=True,\n",
        "                                   recurrent_initializer='glorot_uniform')\n",
        "    self.fc = tf.keras.layers.Dense(vocab_size)\n",
        "\n",
        "    # used for attention\n",
        "    self.attention = BahdanauAttention(self.dec_units)\n",
        "\n",
        "  def call(self, x, hidden, enc_output):\n",
        "    # enc_output shape == (batch_size, max_length, hidden_size)\n",
        "    context_vector, attention_weights = self.attention(hidden, enc_output)\n",
        "\n",
        "    # x shape after passing through embedding == (batch_size, 1, embedding_dim)\n",
        "    x = self.embedding(x)\n",
        "\n",
        "    # x shape after concatenation == (batch_size, 1, embedding_dim + hidden_size)\n",
        "    x = tf.concat([tf.expand_dims(context_vector, 1), x], axis=-1)\n",
        "\n",
        "    # passing the concatenated vector to the GRU\n",
        "    output, state = self.gru(x)\n",
        "\n",
        "    # output shape == (batch_size * 1, hidden_size)\n",
        "    output = tf.reshape(output, (-1, output.shape[2]))\n",
        "\n",
        "    # output shape == (batch_size, vocab)\n",
        "    x = self.fc(output)\n",
        "\n",
        "    return x, state, attention_weights"
      ],
      "execution_count": null,
      "outputs": []
    },
    {
      "cell_type": "code",
      "metadata": {
        "id": "SuSdl5qJOFLT",
        "colab_type": "code",
        "colab": {}
      },
      "source": [
        "decoder = Decoder(tar_vocab, embedding_dim, units, BATCH_SIZE)"
      ],
      "execution_count": null,
      "outputs": []
    },
    {
      "cell_type": "code",
      "metadata": {
        "id": "5kRx4-QUOKo_",
        "colab_type": "code",
        "colab": {}
      },
      "source": [
        "optimizer = tf.keras.optimizers.Adam()\n",
        "loss_object = tf.keras.losses.SparseCategoricalCrossentropy(\n",
        "    from_logits=True, reduction='none')\n",
        "\n",
        "def loss_function(real, pred):\n",
        "  mask = tf.math.logical_not(tf.math.equal(real, 0))\n",
        "  loss_ = loss_object(real, pred)\n",
        "\n",
        "  mask = tf.cast(mask, dtype=loss_.dtype)\n",
        "  loss_ *= mask\n",
        "\n",
        "  return tf.reduce_mean(loss_)"
      ],
      "execution_count": null,
      "outputs": []
    },
    {
      "cell_type": "code",
      "metadata": {
        "id": "-JL4soDmS7cB",
        "colab_type": "code",
        "colab": {
          "base_uri": "https://localhost:8080/",
          "height": 34
        },
        "outputId": "7ebe3f41-0716-419a-a439-c4e429a06466"
      },
      "source": [
        "print(X_token.word_index[\"<start>\"])"
      ],
      "execution_count": null,
      "outputs": [
        {
          "output_type": "stream",
          "text": [
            "1\n"
          ],
          "name": "stdout"
        }
      ]
    },
    {
      "cell_type": "code",
      "metadata": {
        "id": "rtADONStOLaI",
        "colab_type": "code",
        "colab": {}
      },
      "source": [
        "@tf.function\n",
        "def train_step(inp, targ, enc_hidden):\n",
        "  loss = 0\n",
        "\n",
        "  with tf.GradientTape() as tape:\n",
        "    enc_output, enc_hidden = encoder(inp, enc_hidden)\n",
        "\n",
        "    dec_hidden = enc_hidden\n",
        "\n",
        "    dec_input = tf.expand_dims([Y_token.word_index['<start>']] * BATCH_SIZE, 1)\n",
        "\n",
        "    # Teacher forcing - feeding the target as the next input\n",
        "    for t in range(1, targ.shape[1]):\n",
        "      # passing enc_output to the decoder\n",
        "      predictions, dec_hidden, _ = decoder(dec_input, dec_hidden, enc_output)\n",
        "\n",
        "      loss += loss_function(targ[:, t], predictions)\n",
        "\n",
        "      # using teacher forcing\n",
        "      dec_input = tf.expand_dims(targ[:, t], 1)\n",
        "\n",
        "  batch_loss = (loss / int(targ.shape[1]))\n",
        "\n",
        "  variables = encoder.trainable_variables + decoder.trainable_variables\n",
        "\n",
        "  gradients = tape.gradient(loss, variables)\n",
        "\n",
        "  optimizer.apply_gradients(zip(gradients, variables))\n",
        "\n",
        "  return batch_loss"
      ],
      "execution_count": null,
      "outputs": []
    },
    {
      "cell_type": "code",
      "metadata": {
        "id": "Z3pM3xecOQIu",
        "colab_type": "code",
        "colab": {
          "base_uri": "https://localhost:8080/",
          "height": 1000
        },
        "outputId": "5460c419-35ec-4a07-8149-650a1bf833e1"
      },
      "source": [
        "EPOCHS = 20\n",
        "\n",
        "for epoch in range(EPOCHS):\n",
        "  start = time.time()\n",
        "\n",
        "  enc_hidden = encoder.initialize_hidden_state()\n",
        "  total_loss = 0\n",
        "\n",
        "  for (batch, (inp, targ)) in enumerate(dataset.take(steps_per_epoch)):\n",
        "    batch_loss = train_step(inp, targ, enc_hidden)\n",
        "    total_loss += batch_loss\n",
        "\n",
        "    if batch % 100 == 0:\n",
        "      print('Epoch {} Batch {} Loss {:.4f}'.format(epoch + 1,\n",
        "                                                   batch,\n",
        "                                                   batch_loss.numpy()))"
      ],
      "execution_count": null,
      "outputs": [
        {
          "output_type": "stream",
          "text": [
            "Epoch 1 Batch 0 Loss 1.4241\n",
            "Epoch 1 Batch 100 Loss 0.7380\n",
            "Epoch 1 Batch 200 Loss 0.7263\n",
            "Epoch 1 Batch 300 Loss 0.6628\n",
            "Epoch 1 Batch 400 Loss 0.5389\n",
            "Epoch 1 Batch 500 Loss 0.6097\n",
            "Epoch 1 Batch 600 Loss 0.5432\n",
            "Epoch 1 Batch 700 Loss 0.4872\n",
            "Epoch 1 Batch 800 Loss 0.5331\n",
            "Epoch 1 Batch 900 Loss 0.4572\n",
            "Epoch 1 Batch 1000 Loss 0.4427\n",
            "Epoch 1 Batch 1100 Loss 0.4207\n",
            "Epoch 1 Batch 1200 Loss 0.4339\n",
            "Epoch 1 Batch 1300 Loss 0.3725\n",
            "Epoch 1 Batch 1400 Loss 0.4441\n",
            "Epoch 1 Batch 1500 Loss 0.4000\n",
            "Epoch 1 Batch 1600 Loss 0.3422\n",
            "Epoch 1 Batch 1700 Loss 0.3148\n",
            "Epoch 1 Batch 1800 Loss 0.3773\n",
            "Epoch 1 Batch 1900 Loss 0.2949\n",
            "Epoch 1 Batch 2000 Loss 0.3360\n",
            "Epoch 1 Batch 2100 Loss 0.3222\n",
            "Epoch 1 Batch 2200 Loss 0.3089\n",
            "Epoch 1 Batch 2300 Loss 0.2609\n",
            "Epoch 1 Batch 2400 Loss 0.2741\n",
            "Epoch 1 Batch 2500 Loss 0.2633\n",
            "Epoch 1 Batch 2600 Loss 0.2910\n",
            "Epoch 1 Batch 2700 Loss 0.2519\n",
            "Epoch 2 Batch 0 Loss 0.2134\n",
            "Epoch 2 Batch 100 Loss 0.2697\n",
            "Epoch 2 Batch 200 Loss 0.2417\n",
            "Epoch 2 Batch 300 Loss 0.1972\n",
            "Epoch 2 Batch 400 Loss 0.2199\n",
            "Epoch 2 Batch 500 Loss 0.2115\n",
            "Epoch 2 Batch 600 Loss 0.1911\n",
            "Epoch 2 Batch 700 Loss 0.2054\n",
            "Epoch 2 Batch 800 Loss 0.1551\n",
            "Epoch 2 Batch 900 Loss 0.1852\n",
            "Epoch 2 Batch 1000 Loss 0.1954\n",
            "Epoch 2 Batch 1100 Loss 0.1930\n",
            "Epoch 2 Batch 1200 Loss 0.2488\n",
            "Epoch 2 Batch 1300 Loss 0.2201\n",
            "Epoch 2 Batch 1400 Loss 0.2163\n",
            "Epoch 2 Batch 1500 Loss 0.1947\n",
            "Epoch 2 Batch 1600 Loss 0.2085\n",
            "Epoch 2 Batch 1700 Loss 0.1999\n",
            "Epoch 2 Batch 1800 Loss 0.1583\n",
            "Epoch 2 Batch 1900 Loss 0.1560\n",
            "Epoch 2 Batch 2000 Loss 0.1670\n",
            "Epoch 2 Batch 2100 Loss 0.1798\n",
            "Epoch 2 Batch 2200 Loss 0.1623\n",
            "Epoch 2 Batch 2300 Loss 0.1848\n",
            "Epoch 2 Batch 2400 Loss 0.1624\n",
            "Epoch 2 Batch 2500 Loss 0.1895\n",
            "Epoch 2 Batch 2600 Loss 0.1960\n",
            "Epoch 2 Batch 2700 Loss 0.2107\n",
            "Epoch 3 Batch 0 Loss 0.1296\n",
            "Epoch 3 Batch 100 Loss 0.1141\n",
            "Epoch 3 Batch 200 Loss 0.1242\n",
            "Epoch 3 Batch 300 Loss 0.1211\n",
            "Epoch 3 Batch 400 Loss 0.1615\n",
            "Epoch 3 Batch 500 Loss 0.1294\n",
            "Epoch 3 Batch 600 Loss 0.1184\n",
            "Epoch 3 Batch 700 Loss 0.1672\n",
            "Epoch 3 Batch 800 Loss 0.1491\n",
            "Epoch 3 Batch 900 Loss 0.1399\n",
            "Epoch 3 Batch 1000 Loss 0.1117\n",
            "Epoch 3 Batch 1100 Loss 0.1352\n",
            "Epoch 3 Batch 1200 Loss 0.1470\n",
            "Epoch 3 Batch 1300 Loss 0.1334\n",
            "Epoch 3 Batch 1400 Loss 0.1373\n",
            "Epoch 3 Batch 1500 Loss 0.1590\n",
            "Epoch 3 Batch 1600 Loss 0.1483\n",
            "Epoch 3 Batch 1700 Loss 0.1546\n",
            "Epoch 3 Batch 1800 Loss 0.1422\n",
            "Epoch 3 Batch 1900 Loss 0.1571\n",
            "Epoch 3 Batch 2000 Loss 0.1434\n",
            "Epoch 3 Batch 2100 Loss 0.1249\n",
            "Epoch 3 Batch 2200 Loss 0.1526\n",
            "Epoch 3 Batch 2300 Loss 0.1660\n",
            "Epoch 3 Batch 2400 Loss 0.1224\n",
            "Epoch 3 Batch 2500 Loss 0.1338\n"
          ],
          "name": "stdout"
        }
      ]
    },
    {
      "cell_type": "code",
      "metadata": {
        "id": "BG6-0rfkOVW1",
        "colab_type": "code",
        "colab": {}
      },
      "source": [
        "def evaluate(sentence):\n",
        "  attention_plot = np.zeros((max_length_targ, max_length_inp))\n",
        "\n",
        "  sentence = preprocess_sentence(sentence)\n",
        "\n",
        "  inputs = [X_token.word_index[i] for i in sentence.split(' ')]\n",
        "  inputs = pad_sequences([inputs], maxlen=max_length_inp,padding='post')\n",
        "  inputs = tf.convert_to_tensor(inputs)\n",
        "\n",
        "  result = ''\n",
        "\n",
        "  hidden = [tf.zeros((1, units))]\n",
        "  enc_out, enc_hidden = encoder(inputs, hidden)\n",
        "\n",
        "  dec_hidden = enc_hidden\n",
        "  dec_input = tf.expand_dims([targ_lang.word_index['<start>']], 0)\n",
        "\n",
        "  for t in range(max_length_targ):\n",
        "    predictions, dec_hidden, attention_weights = decoder(dec_input,\n",
        "                                                         dec_hidden,\n",
        "                                                         enc_out)\n",
        "\n",
        "    # storing the attention weights to plot later on\n",
        "    attention_weights = tf.reshape(attention_weights, (-1, ))\n",
        "    attention_plot[t] = attention_weights.numpy()\n",
        "\n",
        "    predicted_id = tf.argmax(predictions[0]).numpy()\n",
        "\n",
        "    result += targ_lang.index_word[predicted_id] + ' '\n",
        "\n",
        "    if targ_lang.index_word[predicted_id] == '<end>':\n",
        "      return result, sentence, attention_plot\n",
        "\n",
        "    # the predicted ID is fed back into the model\n",
        "    dec_input = tf.expand_dims([predicted_id], 0)\n",
        "\n",
        "  return result, sentence, attention_plot"
      ],
      "execution_count": null,
      "outputs": []
    },
    {
      "cell_type": "code",
      "metadata": {
        "id": "_mkEKey6Ofua",
        "colab_type": "code",
        "colab": {}
      },
      "source": [
        "# function for plotting the attention weights\n",
        "def plot_attention(attention, sentence, predicted_sentence):\n",
        "  fig = plt.figure(figsize=(10,10))\n",
        "  ax = fig.add_subplot(1, 1, 1)\n",
        "  ax.matshow(attention, cmap='viridis')\n",
        "\n",
        "  fontdict = {'fontsize': 14}\n",
        "\n",
        "  ax.set_xticklabels([''] + sentence, fontdict=fontdict, rotation=90)\n",
        "  ax.set_yticklabels([''] + predicted_sentence, fontdict=fontdict)\n",
        "\n",
        "  ax.xaxis.set_major_locator(ticker.MultipleLocator(1))\n",
        "  ax.yaxis.set_major_locator(ticker.MultipleLocator(1))\n",
        "\n",
        "  plt.show()"
      ],
      "execution_count": null,
      "outputs": []
    },
    {
      "cell_type": "code",
      "metadata": {
        "id": "Jo1arrjyOii1",
        "colab_type": "code",
        "colab": {}
      },
      "source": [
        "def translate(sentence):\n",
        "  result, sentence, attention_plot = evaluate(sentence)\n",
        "\n",
        "  print('Input: %s' % (sentence))\n",
        "  print('Predicted translation: {}'.format(result))\n",
        "\n",
        "  attention_plot = attention_plot[:len(result.split(' ')), :len(sentence.split(' '))]\n",
        "  plot_attention(attention_plot, sentence.split(' '), result.split(' '))"
      ],
      "execution_count": null,
      "outputs": []
    },
    {
      "cell_type": "code",
      "metadata": {
        "id": "tegJKelicp_o",
        "colab_type": "code",
        "colab": {}
      },
      "source": [
        "\n",
        "translate(\"you look lovely\")"
      ],
      "execution_count": null,
      "outputs": []
    },
    {
      "cell_type": "code",
      "metadata": {
        "id": "vBHeUZVr7LH1",
        "colab_type": "code",
        "colab": {}
      },
      "source": [
        ""
      ],
      "execution_count": null,
      "outputs": []
    }
  ]
}